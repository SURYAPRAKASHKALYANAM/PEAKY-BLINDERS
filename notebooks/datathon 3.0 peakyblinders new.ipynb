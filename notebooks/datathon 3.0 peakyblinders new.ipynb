{
 "cells": [
  {
   "cell_type": "code",
   "execution_count": 1,
   "id": "18b7f46a",
   "metadata": {},
   "outputs": [
    {
     "name": "stdout",
     "output_type": "stream",
     "text": [
      "Python 3.10.11\n"
     ]
    }
   ],
   "source": [
    "!python --version"
   ]
  },
  {
   "cell_type": "code",
   "execution_count": 2,
   "id": "8fef1fc1",
   "metadata": {},
   "outputs": [],
   "source": [
    "import pandas as pd\n",
    "import warnings\n",
    "import re"
   ]
  },
  {
   "cell_type": "code",
   "execution_count": 3,
   "id": "a940e45e",
   "metadata": {},
   "outputs": [],
   "source": [
    "warnings.filterwarnings(\"ignore\")"
   ]
  },
  {
   "cell_type": "code",
   "execution_count": 4,
   "id": "553abe98",
   "metadata": {},
   "outputs": [],
   "source": [
    "df=pd.read_csv(r'Datathon_TrainData_org.csv')"
   ]
  },
  {
   "cell_type": "code",
   "execution_count": 5,
   "id": "1b799925",
   "metadata": {},
   "outputs": [
    {
     "name": "stdout",
     "output_type": "stream",
     "text": [
      "<class 'pandas.core.frame.DataFrame'>\n",
      "RangeIndex: 1617 entries, 0 to 1616\n",
      "Data columns (total 10 columns):\n",
      " #   Column                Non-Null Count  Dtype \n",
      "---  ------                --------------  ----- \n",
      " 0   Country               1614 non-null   object\n",
      " 1   Date                  1614 non-null   object\n",
      " 2   Speaker               1613 non-null   object\n",
      " 3   Headline              1612 non-null   object\n",
      " 4   Text_of_Speech        1611 non-null   object\n",
      " 5   Designation           1605 non-null   object\n",
      " 6   Running President/PM  1605 non-null   object\n",
      " 7   Speech Link           1605 non-null   object\n",
      " 8   Emotion               1605 non-null   object\n",
      " 9   Context               1605 non-null   object\n",
      "dtypes: object(10)\n",
      "memory usage: 126.5+ KB\n",
      "None\n"
     ]
    }
   ],
   "source": [
    "summary=df.info()\n",
    "print(summary)"
   ]
  },
  {
   "cell_type": "markdown",
   "id": "666af277",
   "metadata": {},
   "source": [
    "# dropping unwanted rows"
   ]
  },
  {
   "cell_type": "code",
   "execution_count": 6,
   "id": "219709b4",
   "metadata": {},
   "outputs": [],
   "source": [
    "df = df.drop(columns=['Country', 'Date','Speaker','Headline','Running President/PM','Designation','Speech Link','Context'])"
   ]
  },
  {
   "cell_type": "code",
   "execution_count": 57,
   "id": "ec6a71c5",
   "metadata": {},
   "outputs": [
    {
     "data": {
      "text/plain": [
       "'esteemed mr lebedev lady gentleman gathered sum result past year sure end discussion year russia turned new page history right time openly discus change taken place judicial system last decade look like near future legal professional judge always enjoyed special prestige praised measured approach word action hand law acquires real power becomes instrument upholding justice acting behalf state hand verdict behalf russian federation court law mean power enormous power entail huge responsibility usual view court disciplinary machine giving speedy always fair judgment confined past habit seeking protection superior replaced people ’ mind understanding convenience advantage taking matter court defending right assistance today citizen willingly frequently judicial system court live higher expectation going talk good opportunity ponder current condition judicial system present  ,  criminal civil case awaiting trial russian court almost  ,  case tried moscow court alone january  . past year  ,  case returned investigation one third verdict delayed regrettably figure show busy judge also many people still waiting fair resolution problem meanwhile many case problem determine future fully aware defendant spending month sometimes year detention facility hearing civil case involving housing inheritance family issue delayed age meanwhile people judging effectiveness government power integrity court level democracy worldly matter reason huge liability judiciary country ’ leader therefore government authority whole judiciary ’ real independence best indicator state based rule law old universal problem old world time anatoly koni said judge “ protected condition conducive cowardice forced assentation. ” hit nail head regrettably witnessing relapse old attitude court appendage bureaucratic machine instance russian president ’ prerogative delegate power judge context alarming regional leader trying place judicial system control everyone remembers ingush leader ’ attempt hold republican referendum procedure appointing judge violation federal law guarantee equal right citizen throughout russia moreover constitution russian republic still contain clause resident appointed judge formula dozen transgression would like say right away fully support position supreme court russian federation ’ council judge oppose encroachment existing procedure forming court appointing federal judge equally talk revising judiciary ’ current status imposing limit guarantee immunity independence autonomy sanctioned law attempt transgress upon constitutional principle nipped bud eight year ago supreme soviet russian federation approved judiciary reform concept aimed creating strong independent legal system judiciary took direct part process renewal supreme court initiated adopted law military tribunal judicial department funding court russian federation importance adopted legislation judicial system still ridden many serious problem many task still ahead first legal foundation administering justice full accordance russian constitution unjustified delay adoption basic law court law new code criminal legal proceeding legislative act administrative proceeding court badly need work russia ’ constitutional court already issued   resolution discrepancy individual provision code criminal proceeding constitution general message resolution reinforce adversary proceeding maybe time implement full constitutional rule whereby person may arrested detained basis court ruling mean right give serious thought second old rule provide effective legal protection lawful right interest citizen particular rule related providing broader access justice defence preliminary investigation finally russian legislation reformed line universally recognized norm international law know may     russia ratified convention protection human right fundamental freedom become part legal system addition recognized jurisdiction european court human right today must pay special attention problem russian judicial system european court may object first applies meeting reasonable deadline court deliberation european court accept excuse overload lack judge shortage fund national court drag trial today would like discus another key aspect activity – case involving economic crime transition centralized planned economy one governed market impossible without strengthening foundation latter primarily effective performance legal institution regulating economy state primarily guarantee market ’ streamlined functioning stable environment demand fully applies legislative executive branch government also court law arbitration new civil criminal code combine two approach protection right lawful interest participant economic relation one hand guarantee entrepreneur ’ freedom economic performance right hand interest state demand economic agent well role guarantee interest participant promoting tax collection well combating money laundering illegal export capital would like stress one point government heavily criticized abandoning economy without reason already mentioned several time believe repeat talking colleague state interfere economy case resurrect command based planned economy instead create powerful lever understandable rule enforce addition regulating economy state make sure rule everyone guarantee market player follow case transparent attractive investment environment needle say state create new mechanism also keep old one good shape directly applies funding judicial system recently question became urgent russia ’ constitutional court say article   constitution read “ court law shall financed federal budget financing shall ensure full independent administration justice accordance federal law. ” concern funding programme development judicial system also financial support judge receiving modest salary dealing case worth billion rouble fighting crime dangerous offender without proper protection reality today give much reason optimism go without saying everything comply state ’ ability also clear state want everything function normally productive economy effective institution must pay attention want make promise would wrong speak big rise salary would like know understand rise necessary certainly move direction must say much already done give judge due last year judge court administration official received full salary time funding increased almost   million rouble order raise official rate pay half battle programme strengthen rule law combat crime adequately funded many law already passed enforced lack money defendant ’ constitutional right trial jury put practice reason today trial jury limited nine region russia operating everywhere finally sometimes lack money court even meet basic need summon witness interpreter expert law demand enough form envelope money mailing expense still enough computer technical facility court record shirk responsibility situation work improve already said much effect think state fails pay proper attention problem able collect tax owed economy perform well therefore tight fisted court meanwhile court also take step control expense streamline cash flow otherwise difficult resist attempt local leader “ privatize ” court partial funding one major problem want point personnel already said complaint overload court surfaced often become commonplace indeed still  ,  vacancy judge year authorised staff size increased thousand position presidential decree federal judge relieved part burden implementation federal law justice peace almost  ,  people sworn justice plan making even urgent create effective system training proper screening judge essential improve screening process also streamline rule appointing judge removing office current procedure complicated take extremely long time guarantee promotion would also like say personnel problem limited described authority judicial power effective performance largely determined judge ’ qualification unbiased attitude needle say average two three time fewer judge per caput many western country deny citizen right speedy trial friend know well result work direct effect political economic life society court remain key factor safeguarding democracy allowing russia forge ahead new century received lot extra work since december election citizen association alerted violation electoral law federal regional body government flood complaint likely subside beginning summer know position – mean government ’ position state society need honest election result open honest election campaign way achieving fully fledged effective government way guaranteeing democracy order conference certainly talk much implementation judicial reform let ’ tell straight – reform dragged difficult society looking ambiguously human faith inviolability law depends final result personal decency professionalism much hope continue guided work principle professional honour judicial duty responsibility homeland would like wish russia ’ judiciary best thank attention'"
      ]
     },
     "execution_count": 57,
     "metadata": {},
     "output_type": "execute_result"
    }
   ],
   "source": [
    "df['Text_of_Speech'][0]"
   ]
  },
  {
   "cell_type": "markdown",
   "id": "2688acbd",
   "metadata": {},
   "source": [
    "# checking null count in each column in df"
   ]
  },
  {
   "cell_type": "code",
   "execution_count": 8,
   "id": "9bd75a82",
   "metadata": {},
   "outputs": [
    {
     "name": "stdout",
     "output_type": "stream",
     "text": [
      "Null counts for each column:\n",
      "Text_of_Speech     6\n",
      "Emotion           12\n",
      "dtype: int64\n"
     ]
    }
   ],
   "source": [
    "null_counts = df.isnull().sum()\n",
    "print(\"Null counts for each column:\")\n",
    "print(null_counts)"
   ]
  },
  {
   "cell_type": "markdown",
   "id": "722b2985",
   "metadata": {},
   "source": [
    "# labels cleaning"
   ]
  },
  {
   "cell_type": "code",
   "execution_count": 9,
   "id": "fcd3fe3e",
   "metadata": {},
   "outputs": [
    {
     "data": {
      "text/plain": [
       "12"
      ]
     },
     "execution_count": 9,
     "metadata": {},
     "output_type": "execute_result"
    }
   ],
   "source": [
    "df['Emotion'].isnull().sum()"
   ]
  },
  {
   "cell_type": "code",
   "execution_count": 10,
   "id": "aa4c0c8c",
   "metadata": {},
   "outputs": [],
   "source": [
    "labels=df['Emotion'].unique()"
   ]
  },
  {
   "cell_type": "code",
   "execution_count": 11,
   "id": "719de58f",
   "metadata": {},
   "outputs": [
    {
     "data": {
      "text/plain": [
       "array(['UPSET', 'OPTIMISM', 'NEUTRAL', 'JOY', nan], dtype=object)"
      ]
     },
     "execution_count": 11,
     "metadata": {},
     "output_type": "execute_result"
    }
   ],
   "source": [
    "labels"
   ]
  },
  {
   "cell_type": "code",
   "execution_count": 12,
   "id": "2b3b7494",
   "metadata": {},
   "outputs": [],
   "source": [
    "df= df.dropna(subset=['Emotion'])"
   ]
  },
  {
   "cell_type": "code",
   "execution_count": 13,
   "id": "dd9968b4",
   "metadata": {},
   "outputs": [],
   "source": [
    "labels=df['Emotion'].unique()"
   ]
  },
  {
   "cell_type": "code",
   "execution_count": 14,
   "id": "56587d0d",
   "metadata": {},
   "outputs": [
    {
     "data": {
      "text/plain": [
       "array(['UPSET', 'OPTIMISM', 'NEUTRAL', 'JOY'], dtype=object)"
      ]
     },
     "execution_count": 14,
     "metadata": {},
     "output_type": "execute_result"
    }
   ],
   "source": [
    "labels"
   ]
  },
  {
   "cell_type": "code",
   "execution_count": 15,
   "id": "fccf3f5c",
   "metadata": {},
   "outputs": [
    {
     "data": {
      "text/plain": [
       "0"
      ]
     },
     "execution_count": 15,
     "metadata": {},
     "output_type": "execute_result"
    }
   ],
   "source": [
    "df['Emotion'].isnull().sum()"
   ]
  },
  {
   "cell_type": "markdown",
   "id": "c091a8f9",
   "metadata": {},
   "source": [
    "# encode labels"
   ]
  },
  {
   "cell_type": "code",
   "execution_count": 16,
   "id": "ebc6c9ab",
   "metadata": {},
   "outputs": [],
   "source": [
    "from sklearn.preprocessing import LabelEncoder"
   ]
  },
  {
   "cell_type": "code",
   "execution_count": 17,
   "id": "1edb3d01",
   "metadata": {},
   "outputs": [],
   "source": [
    "label_encoder = LabelEncoder()\n",
    "df['Emotion'] = label_encoder.fit_transform(df['Emotion'])"
   ]
  },
  {
   "cell_type": "code",
   "execution_count": 18,
   "id": "e8cc4494",
   "metadata": {},
   "outputs": [
    {
     "data": {
      "text/html": [
       "<div>\n",
       "<style scoped>\n",
       "    .dataframe tbody tr th:only-of-type {\n",
       "        vertical-align: middle;\n",
       "    }\n",
       "\n",
       "    .dataframe tbody tr th {\n",
       "        vertical-align: top;\n",
       "    }\n",
       "\n",
       "    .dataframe thead th {\n",
       "        text-align: right;\n",
       "    }\n",
       "</style>\n",
       "<table border=\"1\" class=\"dataframe\">\n",
       "  <thead>\n",
       "    <tr style=\"text-align: right;\">\n",
       "      <th></th>\n",
       "      <th>Text_of_Speech</th>\n",
       "      <th>Emotion</th>\n",
       "    </tr>\n",
       "  </thead>\n",
       "  <tbody>\n",
       "    <tr>\n",
       "      <th>0</th>\n",
       "      <td>Esteemed Mr Lebedev,\\n\\nLadies and Gentlemen:\\...</td>\n",
       "      <td>3</td>\n",
       "    </tr>\n",
       "    <tr>\n",
       "      <th>1</th>\n",
       "      <td>THE PRESIDENT:  Good evening, my fellow Americ...</td>\n",
       "      <td>2</td>\n",
       "    </tr>\n",
       "    <tr>\n",
       "      <th>2</th>\n",
       "      <td>Good afternoon, dear colleagues,\\n\\nOur meetin...</td>\n",
       "      <td>1</td>\n",
       "    </tr>\n",
       "    <tr>\n",
       "      <th>3</th>\n",
       "      <td>Good afternoon, everybody. This sound system i...</td>\n",
       "      <td>1</td>\n",
       "    </tr>\n",
       "    <tr>\n",
       "      <th>4</th>\n",
       "      <td>More Americans voted in the 2020 elections tha...</td>\n",
       "      <td>3</td>\n",
       "    </tr>\n",
       "    <tr>\n",
       "      <th>...</th>\n",
       "      <td>...</td>\n",
       "      <td>...</td>\n",
       "    </tr>\n",
       "    <tr>\n",
       "      <th>1612</th>\n",
       "      <td>Good afternoon I have just been to see Her Maj...</td>\n",
       "      <td>2</td>\n",
       "    </tr>\n",
       "    <tr>\n",
       "      <th>1613</th>\n",
       "      <td>This February, during Black History Month, I c...</td>\n",
       "      <td>2</td>\n",
       "    </tr>\n",
       "    <tr>\n",
       "      <th>1614</th>\n",
       "      <td>Thank you so much.  Everybody have a seat.  We...</td>\n",
       "      <td>1</td>\n",
       "    </tr>\n",
       "    <tr>\n",
       "      <th>1615</th>\n",
       "      <td>Colleagues,\\nFriends,\\n\\nIn 2013, President Xi...</td>\n",
       "      <td>0</td>\n",
       "    </tr>\n",
       "    <tr>\n",
       "      <th>1616</th>\n",
       "      <td>Secretary of State John Kerry,\\nSecretary of t...</td>\n",
       "      <td>2</td>\n",
       "    </tr>\n",
       "  </tbody>\n",
       "</table>\n",
       "<p>1605 rows × 2 columns</p>\n",
       "</div>"
      ],
      "text/plain": [
       "                                         Text_of_Speech  Emotion\n",
       "0     Esteemed Mr Lebedev,\\n\\nLadies and Gentlemen:\\...        3\n",
       "1     THE PRESIDENT:  Good evening, my fellow Americ...        2\n",
       "2     Good afternoon, dear colleagues,\\n\\nOur meetin...        1\n",
       "3     Good afternoon, everybody. This sound system i...        1\n",
       "4     More Americans voted in the 2020 elections tha...        3\n",
       "...                                                 ...      ...\n",
       "1612  Good afternoon I have just been to see Her Maj...        2\n",
       "1613  This February, during Black History Month, I c...        2\n",
       "1614  Thank you so much.  Everybody have a seat.  We...        1\n",
       "1615  Colleagues,\\nFriends,\\n\\nIn 2013, President Xi...        0\n",
       "1616  Secretary of State John Kerry,\\nSecretary of t...        2\n",
       "\n",
       "[1605 rows x 2 columns]"
      ]
     },
     "execution_count": 18,
     "metadata": {},
     "output_type": "execute_result"
    }
   ],
   "source": [
    "df"
   ]
  },
  {
   "cell_type": "markdown",
   "id": "3646ade0",
   "metadata": {},
   "source": [
    "# text null values"
   ]
  },
  {
   "cell_type": "code",
   "execution_count": 19,
   "id": "4c988515",
   "metadata": {},
   "outputs": [
    {
     "data": {
      "text/plain": [
       "Text_of_Speech    0.0\n",
       "Emotion           0.0\n",
       "dtype: float64"
      ]
     },
     "execution_count": 19,
     "metadata": {},
     "output_type": "execute_result"
    }
   ],
   "source": [
    "df[df['Text_of_Speech']==\"NaN\"].isnull().sum()"
   ]
  },
  {
   "cell_type": "code",
   "execution_count": 20,
   "id": "ddfaab5c",
   "metadata": {},
   "outputs": [
    {
     "data": {
      "image/png": "[encoded data removed]",
      "text/plain": [
       "<Figure size 720x360 with 1 Axes>"
      ]
     },
     "metadata": {
      "needs_background": "light"
     },
     "output_type": "display_data"
    }
   ],
   "source": [
    "import matplotlib.pyplot as plt\n",
    "import seaborn as sns\n",
    "from seaborn import countplot\n",
    "from matplotlib.pyplot import suptitle\n",
    "%matplotlib inline\n",
    "# Create the count plot\n",
    "plt.figure(figsize=(10, 5))\n",
    "sns.countplot(y=\"Emotion\", palette=['maroon', 'blue', 'green', 'orange'], data=df)\n",
    "plt.suptitle(\"Count values of Sentiment Labels\")\n",
    "plt.xlabel(\"Number of Questions\")\n",
    "plt.show()"
   ]
  },
  {
   "cell_type": "markdown",
   "id": "62e28825",
   "metadata": {},
   "source": [
    "# preprocessing of Text_of_Speech"
   ]
  },
  {
   "cell_type": "markdown",
   "id": "6684ca0b",
   "metadata": {},
   "source": [
    "# convert to lower"
   ]
  },
  {
   "cell_type": "code",
   "execution_count": 21,
   "id": "c3cd935e",
   "metadata": {},
   "outputs": [],
   "source": [
    "def lower(x):\n",
    "    return x.lower()\n",
    "df['Text_of_Speech']=df['Text_of_Speech'].apply(lower)    "
   ]
  },
  {
   "cell_type": "code",
   "execution_count": 22,
   "id": "d4002e35",
   "metadata": {},
   "outputs": [
    {
     "data": {
      "text/html": [
       "<div>\n",
       "<style scoped>\n",
       "    .dataframe tbody tr th:only-of-type {\n",
       "        vertical-align: middle;\n",
       "    }\n",
       "\n",
       "    .dataframe tbody tr th {\n",
       "        vertical-align: top;\n",
       "    }\n",
       "\n",
       "    .dataframe thead th {\n",
       "        text-align: right;\n",
       "    }\n",
       "</style>\n",
       "<table border=\"1\" class=\"dataframe\">\n",
       "  <thead>\n",
       "    <tr style=\"text-align: right;\">\n",
       "      <th></th>\n",
       "      <th>Text_of_Speech</th>\n",
       "      <th>Emotion</th>\n",
       "    </tr>\n",
       "  </thead>\n",
       "  <tbody>\n",
       "    <tr>\n",
       "      <th>0</th>\n",
       "      <td>esteemed mr lebedev,\\n\\nladies and gentlemen:\\...</td>\n",
       "      <td>3</td>\n",
       "    </tr>\n",
       "    <tr>\n",
       "      <th>1</th>\n",
       "      <td>the president:  good evening, my fellow americ...</td>\n",
       "      <td>2</td>\n",
       "    </tr>\n",
       "    <tr>\n",
       "      <th>2</th>\n",
       "      <td>good afternoon, dear colleagues,\\n\\nour meetin...</td>\n",
       "      <td>1</td>\n",
       "    </tr>\n",
       "    <tr>\n",
       "      <th>3</th>\n",
       "      <td>good afternoon, everybody. this sound system i...</td>\n",
       "      <td>1</td>\n",
       "    </tr>\n",
       "    <tr>\n",
       "      <th>4</th>\n",
       "      <td>more americans voted in the 2020 elections tha...</td>\n",
       "      <td>3</td>\n",
       "    </tr>\n",
       "    <tr>\n",
       "      <th>...</th>\n",
       "      <td>...</td>\n",
       "      <td>...</td>\n",
       "    </tr>\n",
       "    <tr>\n",
       "      <th>1612</th>\n",
       "      <td>good afternoon i have just been to see her maj...</td>\n",
       "      <td>2</td>\n",
       "    </tr>\n",
       "    <tr>\n",
       "      <th>1613</th>\n",
       "      <td>this february, during black history month, i c...</td>\n",
       "      <td>2</td>\n",
       "    </tr>\n",
       "    <tr>\n",
       "      <th>1614</th>\n",
       "      <td>thank you so much.  everybody have a seat.  we...</td>\n",
       "      <td>1</td>\n",
       "    </tr>\n",
       "    <tr>\n",
       "      <th>1615</th>\n",
       "      <td>colleagues,\\nfriends,\\n\\nin 2013, president xi...</td>\n",
       "      <td>0</td>\n",
       "    </tr>\n",
       "    <tr>\n",
       "      <th>1616</th>\n",
       "      <td>secretary of state john kerry,\\nsecretary of t...</td>\n",
       "      <td>2</td>\n",
       "    </tr>\n",
       "  </tbody>\n",
       "</table>\n",
       "<p>1605 rows × 2 columns</p>\n",
       "</div>"
      ],
      "text/plain": [
       "                                         Text_of_Speech  Emotion\n",
       "0     esteemed mr lebedev,\\n\\nladies and gentlemen:\\...        3\n",
       "1     the president:  good evening, my fellow americ...        2\n",
       "2     good afternoon, dear colleagues,\\n\\nour meetin...        1\n",
       "3     good afternoon, everybody. this sound system i...        1\n",
       "4     more americans voted in the 2020 elections tha...        3\n",
       "...                                                 ...      ...\n",
       "1612  good afternoon i have just been to see her maj...        2\n",
       "1613  this february, during black history month, i c...        2\n",
       "1614  thank you so much.  everybody have a seat.  we...        1\n",
       "1615  colleagues,\\nfriends,\\n\\nin 2013, president xi...        0\n",
       "1616  secretary of state john kerry,\\nsecretary of t...        2\n",
       "\n",
       "[1605 rows x 2 columns]"
      ]
     },
     "execution_count": 22,
     "metadata": {},
     "output_type": "execute_result"
    }
   ],
   "source": [
    "df"
   ]
  },
  {
   "cell_type": "markdown",
   "id": "1b56e570",
   "metadata": {},
   "source": [
    "# replace emojis with words if present"
   ]
  },
  {
   "cell_type": "code",
   "execution_count": 23,
   "id": "72a7bba4",
   "metadata": {},
   "outputs": [],
   "source": [
    "from emot.emo_unicode import UNICODE_EMOJI\n",
    "# Function for converting emojis into word\n",
    "def convert_emojis(text):\n",
    "    for emot in UNICODE_EMOJI:\n",
    "        text = text.replace(emot, \"_\".join(UNICODE_EMOJI[emot].replace(\",\",\"\").replace(\":\",\"\").split()))\n",
    "    return text  \n",
    "df['Text_of_Speech'] = df['Text_of_Speech'].apply(convert_emojis)"
   ]
  },
  {
   "cell_type": "code",
   "execution_count": 24,
   "id": "8e248ce3",
   "metadata": {},
   "outputs": [
    {
     "data": {
      "text/html": [
       "<div>\n",
       "<style scoped>\n",
       "    .dataframe tbody tr th:only-of-type {\n",
       "        vertical-align: middle;\n",
       "    }\n",
       "\n",
       "    .dataframe tbody tr th {\n",
       "        vertical-align: top;\n",
       "    }\n",
       "\n",
       "    .dataframe thead th {\n",
       "        text-align: right;\n",
       "    }\n",
       "</style>\n",
       "<table border=\"1\" class=\"dataframe\">\n",
       "  <thead>\n",
       "    <tr style=\"text-align: right;\">\n",
       "      <th></th>\n",
       "      <th>Text_of_Speech</th>\n",
       "      <th>Emotion</th>\n",
       "    </tr>\n",
       "  </thead>\n",
       "  <tbody>\n",
       "    <tr>\n",
       "      <th>0</th>\n",
       "      <td>esteemed mr lebedev,\\n\\nladies and gentlemen:\\...</td>\n",
       "      <td>3</td>\n",
       "    </tr>\n",
       "    <tr>\n",
       "      <th>1</th>\n",
       "      <td>the president:  good evening, my fellow americ...</td>\n",
       "      <td>2</td>\n",
       "    </tr>\n",
       "    <tr>\n",
       "      <th>2</th>\n",
       "      <td>good afternoon, dear colleagues,\\n\\nour meetin...</td>\n",
       "      <td>1</td>\n",
       "    </tr>\n",
       "    <tr>\n",
       "      <th>3</th>\n",
       "      <td>good afternoon, everybody. this sound system i...</td>\n",
       "      <td>1</td>\n",
       "    </tr>\n",
       "    <tr>\n",
       "      <th>4</th>\n",
       "      <td>more americans voted in the 2020 elections tha...</td>\n",
       "      <td>3</td>\n",
       "    </tr>\n",
       "    <tr>\n",
       "      <th>...</th>\n",
       "      <td>...</td>\n",
       "      <td>...</td>\n",
       "    </tr>\n",
       "    <tr>\n",
       "      <th>1612</th>\n",
       "      <td>good afternoon i have just been to see her maj...</td>\n",
       "      <td>2</td>\n",
       "    </tr>\n",
       "    <tr>\n",
       "      <th>1613</th>\n",
       "      <td>this february, during black history month, i c...</td>\n",
       "      <td>2</td>\n",
       "    </tr>\n",
       "    <tr>\n",
       "      <th>1614</th>\n",
       "      <td>thank you so much.  everybody have a seat.  we...</td>\n",
       "      <td>1</td>\n",
       "    </tr>\n",
       "    <tr>\n",
       "      <th>1615</th>\n",
       "      <td>colleagues,\\nfriends,\\n\\nin 2013, president xi...</td>\n",
       "      <td>0</td>\n",
       "    </tr>\n",
       "    <tr>\n",
       "      <th>1616</th>\n",
       "      <td>secretary of state john kerry,\\nsecretary of t...</td>\n",
       "      <td>2</td>\n",
       "    </tr>\n",
       "  </tbody>\n",
       "</table>\n",
       "<p>1605 rows × 2 columns</p>\n",
       "</div>"
      ],
      "text/plain": [
       "                                         Text_of_Speech  Emotion\n",
       "0     esteemed mr lebedev,\\n\\nladies and gentlemen:\\...        3\n",
       "1     the president:  good evening, my fellow americ...        2\n",
       "2     good afternoon, dear colleagues,\\n\\nour meetin...        1\n",
       "3     good afternoon, everybody. this sound system i...        1\n",
       "4     more americans voted in the 2020 elections tha...        3\n",
       "...                                                 ...      ...\n",
       "1612  good afternoon i have just been to see her maj...        2\n",
       "1613  this february, during black history month, i c...        2\n",
       "1614  thank you so much.  everybody have a seat.  we...        1\n",
       "1615  colleagues,\\nfriends,\\n\\nin 2013, president xi...        0\n",
       "1616  secretary of state john kerry,\\nsecretary of t...        2\n",
       "\n",
       "[1605 rows x 2 columns]"
      ]
     },
     "execution_count": 24,
     "metadata": {},
     "output_type": "execute_result"
    }
   ],
   "source": [
    "df"
   ]
  },
  {
   "cell_type": "markdown",
   "id": "6e387977",
   "metadata": {},
   "source": [
    "# tokenize"
   ]
  },
  {
   "cell_type": "code",
   "execution_count": 25,
   "id": "283b85f3",
   "metadata": {},
   "outputs": [],
   "source": [
    "from nltk.tokenize import word_tokenize\n",
    "def tokenize(x):\n",
    "    return word_tokenize(x)\n",
    "df['Text_of_Speech']=df['Text_of_Speech'].apply(tokenize)"
   ]
  },
  {
   "cell_type": "code",
   "execution_count": 26,
   "id": "46289377",
   "metadata": {},
   "outputs": [
    {
     "data": {
      "text/html": [
       "<div>\n",
       "<style scoped>\n",
       "    .dataframe tbody tr th:only-of-type {\n",
       "        vertical-align: middle;\n",
       "    }\n",
       "\n",
       "    .dataframe tbody tr th {\n",
       "        vertical-align: top;\n",
       "    }\n",
       "\n",
       "    .dataframe thead th {\n",
       "        text-align: right;\n",
       "    }\n",
       "</style>\n",
       "<table border=\"1\" class=\"dataframe\">\n",
       "  <thead>\n",
       "    <tr style=\"text-align: right;\">\n",
       "      <th></th>\n",
       "      <th>Text_of_Speech</th>\n",
       "      <th>Emotion</th>\n",
       "    </tr>\n",
       "  </thead>\n",
       "  <tbody>\n",
       "    <tr>\n",
       "      <th>0</th>\n",
       "      <td>[esteemed, mr, lebedev, ,, ladies, and, gentle...</td>\n",
       "      <td>3</td>\n",
       "    </tr>\n",
       "    <tr>\n",
       "      <th>1</th>\n",
       "      <td>[the, president, :, good, evening, ,, my, fell...</td>\n",
       "      <td>2</td>\n",
       "    </tr>\n",
       "    <tr>\n",
       "      <th>2</th>\n",
       "      <td>[good, afternoon, ,, dear, colleagues, ,, our,...</td>\n",
       "      <td>1</td>\n",
       "    </tr>\n",
       "    <tr>\n",
       "      <th>3</th>\n",
       "      <td>[good, afternoon, ,, everybody, ., this, sound...</td>\n",
       "      <td>1</td>\n",
       "    </tr>\n",
       "    <tr>\n",
       "      <th>4</th>\n",
       "      <td>[more, americans, voted, in, the, 2020, electi...</td>\n",
       "      <td>3</td>\n",
       "    </tr>\n",
       "    <tr>\n",
       "      <th>...</th>\n",
       "      <td>...</td>\n",
       "      <td>...</td>\n",
       "    </tr>\n",
       "    <tr>\n",
       "      <th>1612</th>\n",
       "      <td>[good, afternoon, i, have, just, been, to, see...</td>\n",
       "      <td>2</td>\n",
       "    </tr>\n",
       "    <tr>\n",
       "      <th>1613</th>\n",
       "      <td>[this, february, ,, during, black, history, mo...</td>\n",
       "      <td>2</td>\n",
       "    </tr>\n",
       "    <tr>\n",
       "      <th>1614</th>\n",
       "      <td>[thank, you, so, much, ., everybody, have, a, ...</td>\n",
       "      <td>1</td>\n",
       "    </tr>\n",
       "    <tr>\n",
       "      <th>1615</th>\n",
       "      <td>[colleagues, ,, friends, ,, in, 2013, ,, presi...</td>\n",
       "      <td>0</td>\n",
       "    </tr>\n",
       "    <tr>\n",
       "      <th>1616</th>\n",
       "      <td>[secretary, of, state, john, kerry, ,, secreta...</td>\n",
       "      <td>2</td>\n",
       "    </tr>\n",
       "  </tbody>\n",
       "</table>\n",
       "<p>1605 rows × 2 columns</p>\n",
       "</div>"
      ],
      "text/plain": [
       "                                         Text_of_Speech  Emotion\n",
       "0     [esteemed, mr, lebedev, ,, ladies, and, gentle...        3\n",
       "1     [the, president, :, good, evening, ,, my, fell...        2\n",
       "2     [good, afternoon, ,, dear, colleagues, ,, our,...        1\n",
       "3     [good, afternoon, ,, everybody, ., this, sound...        1\n",
       "4     [more, americans, voted, in, the, 2020, electi...        3\n",
       "...                                                 ...      ...\n",
       "1612  [good, afternoon, i, have, just, been, to, see...        2\n",
       "1613  [this, february, ,, during, black, history, mo...        2\n",
       "1614  [thank, you, so, much, ., everybody, have, a, ...        1\n",
       "1615  [colleagues, ,, friends, ,, in, 2013, ,, presi...        0\n",
       "1616  [secretary, of, state, john, kerry, ,, secreta...        2\n",
       "\n",
       "[1605 rows x 2 columns]"
      ]
     },
     "execution_count": 26,
     "metadata": {},
     "output_type": "execute_result"
    }
   ],
   "source": [
    "df"
   ]
  },
  {
   "cell_type": "markdown",
   "id": "eb1bd888",
   "metadata": {},
   "source": [
    "# remove punctuations"
   ]
  },
  {
   "cell_type": "code",
   "execution_count": 27,
   "id": "8ebe4169",
   "metadata": {},
   "outputs": [],
   "source": [
    "def remove_punct(x):\n",
    "    import string\n",
    "    punct_tag=set(string.punctuation)\n",
    "    t=[i for i in x if i not in punct_tag]\n",
    "    return t\n",
    "      \n",
    "df['Text_of_Speech']=df['Text_of_Speech'].apply(remove_punct)"
   ]
  },
  {
   "cell_type": "code",
   "execution_count": 28,
   "id": "c728f855",
   "metadata": {},
   "outputs": [
    {
     "data": {
      "text/html": [
       "<div>\n",
       "<style scoped>\n",
       "    .dataframe tbody tr th:only-of-type {\n",
       "        vertical-align: middle;\n",
       "    }\n",
       "\n",
       "    .dataframe tbody tr th {\n",
       "        vertical-align: top;\n",
       "    }\n",
       "\n",
       "    .dataframe thead th {\n",
       "        text-align: right;\n",
       "    }\n",
       "</style>\n",
       "<table border=\"1\" class=\"dataframe\">\n",
       "  <thead>\n",
       "    <tr style=\"text-align: right;\">\n",
       "      <th></th>\n",
       "      <th>Text_of_Speech</th>\n",
       "      <th>Emotion</th>\n",
       "    </tr>\n",
       "  </thead>\n",
       "  <tbody>\n",
       "    <tr>\n",
       "      <th>0</th>\n",
       "      <td>[esteemed, mr, lebedev, ladies, and, gentlemen...</td>\n",
       "      <td>3</td>\n",
       "    </tr>\n",
       "    <tr>\n",
       "      <th>1</th>\n",
       "      <td>[the, president, good, evening, my, fellow, am...</td>\n",
       "      <td>2</td>\n",
       "    </tr>\n",
       "    <tr>\n",
       "      <th>2</th>\n",
       "      <td>[good, afternoon, dear, colleagues, our, meeti...</td>\n",
       "      <td>1</td>\n",
       "    </tr>\n",
       "    <tr>\n",
       "      <th>3</th>\n",
       "      <td>[good, afternoon, everybody, this, sound, syst...</td>\n",
       "      <td>1</td>\n",
       "    </tr>\n",
       "    <tr>\n",
       "      <th>4</th>\n",
       "      <td>[more, americans, voted, in, the, 2020, electi...</td>\n",
       "      <td>3</td>\n",
       "    </tr>\n",
       "    <tr>\n",
       "      <th>...</th>\n",
       "      <td>...</td>\n",
       "      <td>...</td>\n",
       "    </tr>\n",
       "    <tr>\n",
       "      <th>1612</th>\n",
       "      <td>[good, afternoon, i, have, just, been, to, see...</td>\n",
       "      <td>2</td>\n",
       "    </tr>\n",
       "    <tr>\n",
       "      <th>1613</th>\n",
       "      <td>[this, february, during, black, history, month...</td>\n",
       "      <td>2</td>\n",
       "    </tr>\n",
       "    <tr>\n",
       "      <th>1614</th>\n",
       "      <td>[thank, you, so, much, everybody, have, a, sea...</td>\n",
       "      <td>1</td>\n",
       "    </tr>\n",
       "    <tr>\n",
       "      <th>1615</th>\n",
       "      <td>[colleagues, friends, in, 2013, president, xi,...</td>\n",
       "      <td>0</td>\n",
       "    </tr>\n",
       "    <tr>\n",
       "      <th>1616</th>\n",
       "      <td>[secretary, of, state, john, kerry, secretary,...</td>\n",
       "      <td>2</td>\n",
       "    </tr>\n",
       "  </tbody>\n",
       "</table>\n",
       "<p>1605 rows × 2 columns</p>\n",
       "</div>"
      ],
      "text/plain": [
       "                                         Text_of_Speech  Emotion\n",
       "0     [esteemed, mr, lebedev, ladies, and, gentlemen...        3\n",
       "1     [the, president, good, evening, my, fellow, am...        2\n",
       "2     [good, afternoon, dear, colleagues, our, meeti...        1\n",
       "3     [good, afternoon, everybody, this, sound, syst...        1\n",
       "4     [more, americans, voted, in, the, 2020, electi...        3\n",
       "...                                                 ...      ...\n",
       "1612  [good, afternoon, i, have, just, been, to, see...        2\n",
       "1613  [this, february, during, black, history, month...        2\n",
       "1614  [thank, you, so, much, everybody, have, a, sea...        1\n",
       "1615  [colleagues, friends, in, 2013, president, xi,...        0\n",
       "1616  [secretary, of, state, john, kerry, secretary,...        2\n",
       "\n",
       "[1605 rows x 2 columns]"
      ]
     },
     "execution_count": 28,
     "metadata": {},
     "output_type": "execute_result"
    }
   ],
   "source": [
    "df"
   ]
  },
  {
   "cell_type": "markdown",
   "id": "3f51a869",
   "metadata": {},
   "source": [
    "# remove extra white spaces"
   ]
  },
  {
   "cell_type": "code",
   "execution_count": 29,
   "id": "0291dd15",
   "metadata": {},
   "outputs": [],
   "source": [
    "def whites(x):\n",
    "    w={' '}\n",
    "    x=[i for i in x if i not in w]\n",
    "    return x\n",
    "df['Text_of_Speech']=df['Text_of_Speech'].apply(whites)    "
   ]
  },
  {
   "cell_type": "code",
   "execution_count": 30,
   "id": "b6dbaf67",
   "metadata": {},
   "outputs": [
    {
     "data": {
      "text/html": [
       "<div>\n",
       "<style scoped>\n",
       "    .dataframe tbody tr th:only-of-type {\n",
       "        vertical-align: middle;\n",
       "    }\n",
       "\n",
       "    .dataframe tbody tr th {\n",
       "        vertical-align: top;\n",
       "    }\n",
       "\n",
       "    .dataframe thead th {\n",
       "        text-align: right;\n",
       "    }\n",
       "</style>\n",
       "<table border=\"1\" class=\"dataframe\">\n",
       "  <thead>\n",
       "    <tr style=\"text-align: right;\">\n",
       "      <th></th>\n",
       "      <th>Text_of_Speech</th>\n",
       "      <th>Emotion</th>\n",
       "    </tr>\n",
       "  </thead>\n",
       "  <tbody>\n",
       "    <tr>\n",
       "      <th>0</th>\n",
       "      <td>[esteemed, mr, lebedev, ladies, and, gentlemen...</td>\n",
       "      <td>3</td>\n",
       "    </tr>\n",
       "    <tr>\n",
       "      <th>1</th>\n",
       "      <td>[the, president, good, evening, my, fellow, am...</td>\n",
       "      <td>2</td>\n",
       "    </tr>\n",
       "    <tr>\n",
       "      <th>2</th>\n",
       "      <td>[good, afternoon, dear, colleagues, our, meeti...</td>\n",
       "      <td>1</td>\n",
       "    </tr>\n",
       "    <tr>\n",
       "      <th>3</th>\n",
       "      <td>[good, afternoon, everybody, this, sound, syst...</td>\n",
       "      <td>1</td>\n",
       "    </tr>\n",
       "    <tr>\n",
       "      <th>4</th>\n",
       "      <td>[more, americans, voted, in, the, 2020, electi...</td>\n",
       "      <td>3</td>\n",
       "    </tr>\n",
       "    <tr>\n",
       "      <th>...</th>\n",
       "      <td>...</td>\n",
       "      <td>...</td>\n",
       "    </tr>\n",
       "    <tr>\n",
       "      <th>1612</th>\n",
       "      <td>[good, afternoon, i, have, just, been, to, see...</td>\n",
       "      <td>2</td>\n",
       "    </tr>\n",
       "    <tr>\n",
       "      <th>1613</th>\n",
       "      <td>[this, february, during, black, history, month...</td>\n",
       "      <td>2</td>\n",
       "    </tr>\n",
       "    <tr>\n",
       "      <th>1614</th>\n",
       "      <td>[thank, you, so, much, everybody, have, a, sea...</td>\n",
       "      <td>1</td>\n",
       "    </tr>\n",
       "    <tr>\n",
       "      <th>1615</th>\n",
       "      <td>[colleagues, friends, in, 2013, president, xi,...</td>\n",
       "      <td>0</td>\n",
       "    </tr>\n",
       "    <tr>\n",
       "      <th>1616</th>\n",
       "      <td>[secretary, of, state, john, kerry, secretary,...</td>\n",
       "      <td>2</td>\n",
       "    </tr>\n",
       "  </tbody>\n",
       "</table>\n",
       "<p>1605 rows × 2 columns</p>\n",
       "</div>"
      ],
      "text/plain": [
       "                                         Text_of_Speech  Emotion\n",
       "0     [esteemed, mr, lebedev, ladies, and, gentlemen...        3\n",
       "1     [the, president, good, evening, my, fellow, am...        2\n",
       "2     [good, afternoon, dear, colleagues, our, meeti...        1\n",
       "3     [good, afternoon, everybody, this, sound, syst...        1\n",
       "4     [more, americans, voted, in, the, 2020, electi...        3\n",
       "...                                                 ...      ...\n",
       "1612  [good, afternoon, i, have, just, been, to, see...        2\n",
       "1613  [this, february, during, black, history, month...        2\n",
       "1614  [thank, you, so, much, everybody, have, a, sea...        1\n",
       "1615  [colleagues, friends, in, 2013, president, xi,...        0\n",
       "1616  [secretary, of, state, john, kerry, secretary,...        2\n",
       "\n",
       "[1605 rows x 2 columns]"
      ]
     },
     "execution_count": 30,
     "metadata": {},
     "output_type": "execute_result"
    }
   ],
   "source": [
    "df"
   ]
  },
  {
   "cell_type": "markdown",
   "id": "d4324753",
   "metadata": {},
   "source": [
    "# stopwords"
   ]
  },
  {
   "cell_type": "code",
   "execution_count": 31,
   "id": "529aa699",
   "metadata": {},
   "outputs": [],
   "source": [
    "from nltk.corpus import stopwords\n",
    "import nltk\n",
    "def re_stop(x):\n",
    "    nltk_stopwords = nltk.corpus.stopwords.words(\"english\")\n",
    "    return [ token for token in x if token not in nltk_stopwords]\n",
    "df['Text_of_Speech']=df['Text_of_Speech'].apply(re_stop)  "
   ]
  },
  {
   "cell_type": "code",
   "execution_count": 32,
   "id": "ed090c90",
   "metadata": {},
   "outputs": [
    {
     "data": {
      "text/html": [
       "<div>\n",
       "<style scoped>\n",
       "    .dataframe tbody tr th:only-of-type {\n",
       "        vertical-align: middle;\n",
       "    }\n",
       "\n",
       "    .dataframe tbody tr th {\n",
       "        vertical-align: top;\n",
       "    }\n",
       "\n",
       "    .dataframe thead th {\n",
       "        text-align: right;\n",
       "    }\n",
       "</style>\n",
       "<table border=\"1\" class=\"dataframe\">\n",
       "  <thead>\n",
       "    <tr style=\"text-align: right;\">\n",
       "      <th></th>\n",
       "      <th>Text_of_Speech</th>\n",
       "      <th>Emotion</th>\n",
       "    </tr>\n",
       "  </thead>\n",
       "  <tbody>\n",
       "    <tr>\n",
       "      <th>0</th>\n",
       "      <td>[esteemed, mr, lebedev, ladies, gentlemen, gat...</td>\n",
       "      <td>3</td>\n",
       "    </tr>\n",
       "    <tr>\n",
       "      <th>1</th>\n",
       "      <td>[president, good, evening, fellow, americans, ...</td>\n",
       "      <td>2</td>\n",
       "    </tr>\n",
       "    <tr>\n",
       "      <th>2</th>\n",
       "      <td>[good, afternoon, dear, colleagues, meeting, t...</td>\n",
       "      <td>1</td>\n",
       "    </tr>\n",
       "    <tr>\n",
       "      <th>3</th>\n",
       "      <td>[good, afternoon, everybody, sound, system, re...</td>\n",
       "      <td>1</td>\n",
       "    </tr>\n",
       "    <tr>\n",
       "      <th>4</th>\n",
       "      <td>[americans, voted, 2020, elections, election, ...</td>\n",
       "      <td>3</td>\n",
       "    </tr>\n",
       "    <tr>\n",
       "      <th>...</th>\n",
       "      <td>...</td>\n",
       "      <td>...</td>\n",
       "    </tr>\n",
       "    <tr>\n",
       "      <th>1612</th>\n",
       "      <td>[good, afternoon, see, majesty, queen, invited...</td>\n",
       "      <td>2</td>\n",
       "    </tr>\n",
       "    <tr>\n",
       "      <th>1613</th>\n",
       "      <td>[february, black, history, month, call, americ...</td>\n",
       "      <td>2</td>\n",
       "    </tr>\n",
       "    <tr>\n",
       "      <th>1614</th>\n",
       "      <td>[thank, much, everybody, seat, well, welcome, ...</td>\n",
       "      <td>1</td>\n",
       "    </tr>\n",
       "    <tr>\n",
       "      <th>1615</th>\n",
       "      <td>[colleagues, friends, 2013, president, xi, jin...</td>\n",
       "      <td>0</td>\n",
       "    </tr>\n",
       "    <tr>\n",
       "      <th>1616</th>\n",
       "      <td>[secretary, state, john, kerry, secretary, tre...</td>\n",
       "      <td>2</td>\n",
       "    </tr>\n",
       "  </tbody>\n",
       "</table>\n",
       "<p>1605 rows × 2 columns</p>\n",
       "</div>"
      ],
      "text/plain": [
       "                                         Text_of_Speech  Emotion\n",
       "0     [esteemed, mr, lebedev, ladies, gentlemen, gat...        3\n",
       "1     [president, good, evening, fellow, americans, ...        2\n",
       "2     [good, afternoon, dear, colleagues, meeting, t...        1\n",
       "3     [good, afternoon, everybody, sound, system, re...        1\n",
       "4     [americans, voted, 2020, elections, election, ...        3\n",
       "...                                                 ...      ...\n",
       "1612  [good, afternoon, see, majesty, queen, invited...        2\n",
       "1613  [february, black, history, month, call, americ...        2\n",
       "1614  [thank, much, everybody, seat, well, welcome, ...        1\n",
       "1615  [colleagues, friends, 2013, president, xi, jin...        0\n",
       "1616  [secretary, state, john, kerry, secretary, tre...        2\n",
       "\n",
       "[1605 rows x 2 columns]"
      ]
     },
     "execution_count": 32,
     "metadata": {},
     "output_type": "execute_result"
    }
   ],
   "source": [
    "df"
   ]
  },
  {
   "cell_type": "markdown",
   "id": "6b3688de",
   "metadata": {},
   "source": [
    "# Removes Numbers"
   ]
  },
  {
   "cell_type": "code",
   "execution_count": 33,
   "id": "1dd4f751",
   "metadata": {},
   "outputs": [],
   "source": [
    "def remove_num(data):\n",
    "    data=' '.join(data)\n",
    "    tag=re.compile(r'[0-9]+')\n",
    "    data=tag.sub(r' ',data)\n",
    "    return data\n",
    "df['Text_of_Speech']=df['Text_of_Speech'].apply(remove_num) "
   ]
  },
  {
   "cell_type": "code",
   "execution_count": 34,
   "id": "ac854756",
   "metadata": {},
   "outputs": [
    {
     "data": {
      "text/html": [
       "<div>\n",
       "<style scoped>\n",
       "    .dataframe tbody tr th:only-of-type {\n",
       "        vertical-align: middle;\n",
       "    }\n",
       "\n",
       "    .dataframe tbody tr th {\n",
       "        vertical-align: top;\n",
       "    }\n",
       "\n",
       "    .dataframe thead th {\n",
       "        text-align: right;\n",
       "    }\n",
       "</style>\n",
       "<table border=\"1\" class=\"dataframe\">\n",
       "  <thead>\n",
       "    <tr style=\"text-align: right;\">\n",
       "      <th></th>\n",
       "      <th>Text_of_Speech</th>\n",
       "      <th>Emotion</th>\n",
       "    </tr>\n",
       "  </thead>\n",
       "  <tbody>\n",
       "    <tr>\n",
       "      <th>0</th>\n",
       "      <td>esteemed mr lebedev ladies gentlemen gathered ...</td>\n",
       "      <td>3</td>\n",
       "    </tr>\n",
       "    <tr>\n",
       "      <th>1</th>\n",
       "      <td>president good evening fellow americans want t...</td>\n",
       "      <td>2</td>\n",
       "    </tr>\n",
       "    <tr>\n",
       "      <th>2</th>\n",
       "      <td>good afternoon dear colleagues meeting today d...</td>\n",
       "      <td>1</td>\n",
       "    </tr>\n",
       "    <tr>\n",
       "      <th>3</th>\n",
       "      <td>good afternoon everybody sound system really p...</td>\n",
       "      <td>1</td>\n",
       "    </tr>\n",
       "    <tr>\n",
       "      <th>4</th>\n",
       "      <td>americans voted   elections election nation ’ ...</td>\n",
       "      <td>3</td>\n",
       "    </tr>\n",
       "    <tr>\n",
       "      <th>...</th>\n",
       "      <td>...</td>\n",
       "      <td>...</td>\n",
       "    </tr>\n",
       "    <tr>\n",
       "      <th>1612</th>\n",
       "      <td>good afternoon see majesty queen invited form ...</td>\n",
       "      <td>2</td>\n",
       "    </tr>\n",
       "    <tr>\n",
       "      <th>1613</th>\n",
       "      <td>february black history month call american peo...</td>\n",
       "      <td>2</td>\n",
       "    </tr>\n",
       "    <tr>\n",
       "      <th>1614</th>\n",
       "      <td>thank much everybody seat well welcome white h...</td>\n",
       "      <td>1</td>\n",
       "    </tr>\n",
       "    <tr>\n",
       "      <th>1615</th>\n",
       "      <td>colleagues friends   president xi jinping prop...</td>\n",
       "      <td>0</td>\n",
       "    </tr>\n",
       "    <tr>\n",
       "      <th>1616</th>\n",
       "      <td>secretary state john kerry secretary treasury ...</td>\n",
       "      <td>2</td>\n",
       "    </tr>\n",
       "  </tbody>\n",
       "</table>\n",
       "<p>1605 rows × 2 columns</p>\n",
       "</div>"
      ],
      "text/plain": [
       "                                         Text_of_Speech  Emotion\n",
       "0     esteemed mr lebedev ladies gentlemen gathered ...        3\n",
       "1     president good evening fellow americans want t...        2\n",
       "2     good afternoon dear colleagues meeting today d...        1\n",
       "3     good afternoon everybody sound system really p...        1\n",
       "4     americans voted   elections election nation ’ ...        3\n",
       "...                                                 ...      ...\n",
       "1612  good afternoon see majesty queen invited form ...        2\n",
       "1613  february black history month call american peo...        2\n",
       "1614  thank much everybody seat well welcome white h...        1\n",
       "1615  colleagues friends   president xi jinping prop...        0\n",
       "1616  secretary state john kerry secretary treasury ...        2\n",
       "\n",
       "[1605 rows x 2 columns]"
      ]
     },
     "execution_count": 34,
     "metadata": {},
     "output_type": "execute_result"
    }
   ],
   "source": [
    "df"
   ]
  },
  {
   "cell_type": "markdown",
   "id": "bba18a70",
   "metadata": {},
   "source": [
    "# remove roamns if present"
   ]
  },
  {
   "cell_type": "code",
   "execution_count": 35,
   "id": "b92db99a",
   "metadata": {},
   "outputs": [],
   "source": [
    "def remove_roman(data):\n",
    "    en_tag =re.compile(r'^M{0,4}(CM|CD|D?C{0,3})(XC|XL|L?X{0,3})(IX|IV|V?I{0,3})$')\n",
    "    data=en_tag.sub(r' ',data)\n",
    "    return data\n",
    "df['Text_of_Speech']=df['Text_of_Speech'].apply(remove_roman)"
   ]
  },
  {
   "cell_type": "code",
   "execution_count": 36,
   "id": "250b8388",
   "metadata": {},
   "outputs": [
    {
     "data": {
      "text/html": [
       "<div>\n",
       "<style scoped>\n",
       "    .dataframe tbody tr th:only-of-type {\n",
       "        vertical-align: middle;\n",
       "    }\n",
       "\n",
       "    .dataframe tbody tr th {\n",
       "        vertical-align: top;\n",
       "    }\n",
       "\n",
       "    .dataframe thead th {\n",
       "        text-align: right;\n",
       "    }\n",
       "</style>\n",
       "<table border=\"1\" class=\"dataframe\">\n",
       "  <thead>\n",
       "    <tr style=\"text-align: right;\">\n",
       "      <th></th>\n",
       "      <th>Text_of_Speech</th>\n",
       "      <th>Emotion</th>\n",
       "    </tr>\n",
       "  </thead>\n",
       "  <tbody>\n",
       "    <tr>\n",
       "      <th>0</th>\n",
       "      <td>esteemed mr lebedev ladies gentlemen gathered ...</td>\n",
       "      <td>3</td>\n",
       "    </tr>\n",
       "    <tr>\n",
       "      <th>1</th>\n",
       "      <td>president good evening fellow americans want t...</td>\n",
       "      <td>2</td>\n",
       "    </tr>\n",
       "    <tr>\n",
       "      <th>2</th>\n",
       "      <td>good afternoon dear colleagues meeting today d...</td>\n",
       "      <td>1</td>\n",
       "    </tr>\n",
       "    <tr>\n",
       "      <th>3</th>\n",
       "      <td>good afternoon everybody sound system really p...</td>\n",
       "      <td>1</td>\n",
       "    </tr>\n",
       "    <tr>\n",
       "      <th>4</th>\n",
       "      <td>americans voted   elections election nation ’ ...</td>\n",
       "      <td>3</td>\n",
       "    </tr>\n",
       "    <tr>\n",
       "      <th>...</th>\n",
       "      <td>...</td>\n",
       "      <td>...</td>\n",
       "    </tr>\n",
       "    <tr>\n",
       "      <th>1612</th>\n",
       "      <td>good afternoon see majesty queen invited form ...</td>\n",
       "      <td>2</td>\n",
       "    </tr>\n",
       "    <tr>\n",
       "      <th>1613</th>\n",
       "      <td>february black history month call american peo...</td>\n",
       "      <td>2</td>\n",
       "    </tr>\n",
       "    <tr>\n",
       "      <th>1614</th>\n",
       "      <td>thank much everybody seat well welcome white h...</td>\n",
       "      <td>1</td>\n",
       "    </tr>\n",
       "    <tr>\n",
       "      <th>1615</th>\n",
       "      <td>colleagues friends   president xi jinping prop...</td>\n",
       "      <td>0</td>\n",
       "    </tr>\n",
       "    <tr>\n",
       "      <th>1616</th>\n",
       "      <td>secretary state john kerry secretary treasury ...</td>\n",
       "      <td>2</td>\n",
       "    </tr>\n",
       "  </tbody>\n",
       "</table>\n",
       "<p>1605 rows × 2 columns</p>\n",
       "</div>"
      ],
      "text/plain": [
       "                                         Text_of_Speech  Emotion\n",
       "0     esteemed mr lebedev ladies gentlemen gathered ...        3\n",
       "1     president good evening fellow americans want t...        2\n",
       "2     good afternoon dear colleagues meeting today d...        1\n",
       "3     good afternoon everybody sound system really p...        1\n",
       "4     americans voted   elections election nation ’ ...        3\n",
       "...                                                 ...      ...\n",
       "1612  good afternoon see majesty queen invited form ...        2\n",
       "1613  february black history month call american peo...        2\n",
       "1614  thank much everybody seat well welcome white h...        1\n",
       "1615  colleagues friends   president xi jinping prop...        0\n",
       "1616  secretary state john kerry secretary treasury ...        2\n",
       "\n",
       "[1605 rows x 2 columns]"
      ]
     },
     "execution_count": 36,
     "metadata": {},
     "output_type": "execute_result"
    }
   ],
   "source": [
    "df"
   ]
  },
  {
   "cell_type": "markdown",
   "id": "6a6ccd6a",
   "metadata": {},
   "source": [
    "# Remove redundant words"
   ]
  },
  {
   "cell_type": "code",
   "execution_count": 37,
   "id": "33855064",
   "metadata": {},
   "outputs": [],
   "source": [
    "def remove_redun(data):\n",
    "    red_tag=re.compile(r'[?<=(  )\\\\]|[&&|\\|\\|-]')\n",
    "    data=red_tag.sub(r' ',data)\n",
    "    data=data.split(\" \")\n",
    "    return data\n",
    "df['Text_of_Speech']=df['Text_of_Speech'].apply(remove_redun)"
   ]
  },
  {
   "cell_type": "code",
   "execution_count": 38,
   "id": "76d9af7c",
   "metadata": {},
   "outputs": [
    {
     "data": {
      "text/html": [
       "<div>\n",
       "<style scoped>\n",
       "    .dataframe tbody tr th:only-of-type {\n",
       "        vertical-align: middle;\n",
       "    }\n",
       "\n",
       "    .dataframe tbody tr th {\n",
       "        vertical-align: top;\n",
       "    }\n",
       "\n",
       "    .dataframe thead th {\n",
       "        text-align: right;\n",
       "    }\n",
       "</style>\n",
       "<table border=\"1\" class=\"dataframe\">\n",
       "  <thead>\n",
       "    <tr style=\"text-align: right;\">\n",
       "      <th></th>\n",
       "      <th>Text_of_Speech</th>\n",
       "      <th>Emotion</th>\n",
       "    </tr>\n",
       "  </thead>\n",
       "  <tbody>\n",
       "    <tr>\n",
       "      <th>0</th>\n",
       "      <td>[esteemed, mr, lebedev, ladies, gentlemen, gat...</td>\n",
       "      <td>3</td>\n",
       "    </tr>\n",
       "    <tr>\n",
       "      <th>1</th>\n",
       "      <td>[president, good, evening, fellow, americans, ...</td>\n",
       "      <td>2</td>\n",
       "    </tr>\n",
       "    <tr>\n",
       "      <th>2</th>\n",
       "      <td>[good, afternoon, dear, colleagues, meeting, t...</td>\n",
       "      <td>1</td>\n",
       "    </tr>\n",
       "    <tr>\n",
       "      <th>3</th>\n",
       "      <td>[good, afternoon, everybody, sound, system, re...</td>\n",
       "      <td>1</td>\n",
       "    </tr>\n",
       "    <tr>\n",
       "      <th>4</th>\n",
       "      <td>[americans, voted, , , elections, election, na...</td>\n",
       "      <td>3</td>\n",
       "    </tr>\n",
       "    <tr>\n",
       "      <th>...</th>\n",
       "      <td>...</td>\n",
       "      <td>...</td>\n",
       "    </tr>\n",
       "    <tr>\n",
       "      <th>1612</th>\n",
       "      <td>[good, afternoon, see, majesty, queen, invited...</td>\n",
       "      <td>2</td>\n",
       "    </tr>\n",
       "    <tr>\n",
       "      <th>1613</th>\n",
       "      <td>[february, black, history, month, call, americ...</td>\n",
       "      <td>2</td>\n",
       "    </tr>\n",
       "    <tr>\n",
       "      <th>1614</th>\n",
       "      <td>[thank, much, everybody, seat, well, welcome, ...</td>\n",
       "      <td>1</td>\n",
       "    </tr>\n",
       "    <tr>\n",
       "      <th>1615</th>\n",
       "      <td>[colleagues, friends, , , president, xi, jinpi...</td>\n",
       "      <td>0</td>\n",
       "    </tr>\n",
       "    <tr>\n",
       "      <th>1616</th>\n",
       "      <td>[secretary, state, john, kerry, secretary, tre...</td>\n",
       "      <td>2</td>\n",
       "    </tr>\n",
       "  </tbody>\n",
       "</table>\n",
       "<p>1605 rows × 2 columns</p>\n",
       "</div>"
      ],
      "text/plain": [
       "                                         Text_of_Speech  Emotion\n",
       "0     [esteemed, mr, lebedev, ladies, gentlemen, gat...        3\n",
       "1     [president, good, evening, fellow, americans, ...        2\n",
       "2     [good, afternoon, dear, colleagues, meeting, t...        1\n",
       "3     [good, afternoon, everybody, sound, system, re...        1\n",
       "4     [americans, voted, , , elections, election, na...        3\n",
       "...                                                 ...      ...\n",
       "1612  [good, afternoon, see, majesty, queen, invited...        2\n",
       "1613  [february, black, history, month, call, americ...        2\n",
       "1614  [thank, much, everybody, seat, well, welcome, ...        1\n",
       "1615  [colleagues, friends, , , president, xi, jinpi...        0\n",
       "1616  [secretary, state, john, kerry, secretary, tre...        2\n",
       "\n",
       "[1605 rows x 2 columns]"
      ]
     },
     "execution_count": 38,
     "metadata": {},
     "output_type": "execute_result"
    }
   ],
   "source": [
    "df"
   ]
  },
  {
   "cell_type": "markdown",
   "id": "3841e0cb",
   "metadata": {},
   "source": [
    "# stemming"
   ]
  },
  {
   "cell_type": "code",
   "execution_count": 39,
   "id": "68f25ec6",
   "metadata": {},
   "outputs": [],
   "source": [
    "# from nltk.stem.porter import PorterStemmer\n",
    "# def stemm(x):\n",
    "#     l=[]\n",
    "#     for i in x:\n",
    "#         l.append(PorterStemmer().stem(i))\n",
    "#     return l    \n",
    "# df['Text_of_Speech']=df['Text_of_Speech'].apply(stemm)  "
   ]
  },
  {
   "cell_type": "code",
   "execution_count": 40,
   "id": "81a44fb4",
   "metadata": {},
   "outputs": [],
   "source": [
    "# df"
   ]
  },
  {
   "cell_type": "markdown",
   "id": "3e9aeb54",
   "metadata": {},
   "source": [
    "# lemmatiazation"
   ]
  },
  {
   "cell_type": "markdown",
   "id": "a5bd85fd",
   "metadata": {},
   "source": [
    "technique that reduces words to their base or dictionary form, ensuring variants of a word are transformed to a common root. "
   ]
  },
  {
   "cell_type": "code",
   "execution_count": 41,
   "id": "01b17a84",
   "metadata": {},
   "outputs": [],
   "source": [
    "from nltk.stem import WordNetLemmatizer\n",
    "def lemm(x):\n",
    "    l=[]\n",
    "    for i in x:\n",
    "        l.append(WordNetLemmatizer().lemmatize(i))\n",
    "    return l    \n",
    "df['Text_of_Speech']=df['Text_of_Speech'].apply(lemm)"
   ]
  },
  {
   "cell_type": "code",
   "execution_count": 42,
   "id": "3d9c3766",
   "metadata": {},
   "outputs": [
    {
     "data": {
      "text/html": [
       "<div>\n",
       "<style scoped>\n",
       "    .dataframe tbody tr th:only-of-type {\n",
       "        vertical-align: middle;\n",
       "    }\n",
       "\n",
       "    .dataframe tbody tr th {\n",
       "        vertical-align: top;\n",
       "    }\n",
       "\n",
       "    .dataframe thead th {\n",
       "        text-align: right;\n",
       "    }\n",
       "</style>\n",
       "<table border=\"1\" class=\"dataframe\">\n",
       "  <thead>\n",
       "    <tr style=\"text-align: right;\">\n",
       "      <th></th>\n",
       "      <th>Text_of_Speech</th>\n",
       "      <th>Emotion</th>\n",
       "    </tr>\n",
       "  </thead>\n",
       "  <tbody>\n",
       "    <tr>\n",
       "      <th>0</th>\n",
       "      <td>[esteemed, mr, lebedev, lady, gentleman, gathe...</td>\n",
       "      <td>3</td>\n",
       "    </tr>\n",
       "    <tr>\n",
       "      <th>1</th>\n",
       "      <td>[president, good, evening, fellow, american, w...</td>\n",
       "      <td>2</td>\n",
       "    </tr>\n",
       "    <tr>\n",
       "      <th>2</th>\n",
       "      <td>[good, afternoon, dear, colleague, meeting, to...</td>\n",
       "      <td>1</td>\n",
       "    </tr>\n",
       "    <tr>\n",
       "      <th>3</th>\n",
       "      <td>[good, afternoon, everybody, sound, system, re...</td>\n",
       "      <td>1</td>\n",
       "    </tr>\n",
       "    <tr>\n",
       "      <th>4</th>\n",
       "      <td>[american, voted, , , election, election, nati...</td>\n",
       "      <td>3</td>\n",
       "    </tr>\n",
       "    <tr>\n",
       "      <th>...</th>\n",
       "      <td>...</td>\n",
       "      <td>...</td>\n",
       "    </tr>\n",
       "    <tr>\n",
       "      <th>1612</th>\n",
       "      <td>[good, afternoon, see, majesty, queen, invited...</td>\n",
       "      <td>2</td>\n",
       "    </tr>\n",
       "    <tr>\n",
       "      <th>1613</th>\n",
       "      <td>[february, black, history, month, call, americ...</td>\n",
       "      <td>2</td>\n",
       "    </tr>\n",
       "    <tr>\n",
       "      <th>1614</th>\n",
       "      <td>[thank, much, everybody, seat, well, welcome, ...</td>\n",
       "      <td>1</td>\n",
       "    </tr>\n",
       "    <tr>\n",
       "      <th>1615</th>\n",
       "      <td>[colleague, friend, , , president, xi, jinping...</td>\n",
       "      <td>0</td>\n",
       "    </tr>\n",
       "    <tr>\n",
       "      <th>1616</th>\n",
       "      <td>[secretary, state, john, kerry, secretary, tre...</td>\n",
       "      <td>2</td>\n",
       "    </tr>\n",
       "  </tbody>\n",
       "</table>\n",
       "<p>1605 rows × 2 columns</p>\n",
       "</div>"
      ],
      "text/plain": [
       "                                         Text_of_Speech  Emotion\n",
       "0     [esteemed, mr, lebedev, lady, gentleman, gathe...        3\n",
       "1     [president, good, evening, fellow, american, w...        2\n",
       "2     [good, afternoon, dear, colleague, meeting, to...        1\n",
       "3     [good, afternoon, everybody, sound, system, re...        1\n",
       "4     [american, voted, , , election, election, nati...        3\n",
       "...                                                 ...      ...\n",
       "1612  [good, afternoon, see, majesty, queen, invited...        2\n",
       "1613  [february, black, history, month, call, americ...        2\n",
       "1614  [thank, much, everybody, seat, well, welcome, ...        1\n",
       "1615  [colleague, friend, , , president, xi, jinping...        0\n",
       "1616  [secretary, state, john, kerry, secretary, tre...        2\n",
       "\n",
       "[1605 rows x 2 columns]"
      ]
     },
     "execution_count": 42,
     "metadata": {},
     "output_type": "execute_result"
    }
   ],
   "source": [
    "df"
   ]
  },
  {
   "cell_type": "markdown",
   "id": "dfd1e8b2",
   "metadata": {},
   "source": [
    "# combine again to speech"
   ]
  },
  {
   "cell_type": "code",
   "execution_count": 44,
   "id": "d7e23956",
   "metadata": {},
   "outputs": [],
   "source": [
    "def combine(x):\n",
    "    return ' '.join(x)\n",
    "df['Text_of_Speech']=df['Text_of_Speech'].apply(combine)"
   ]
  },
  {
   "cell_type": "code",
   "execution_count": 58,
   "id": "d385d7c8",
   "metadata": {},
   "outputs": [
    {
     "data": {
      "text/html": [
       "<div>\n",
       "<style scoped>\n",
       "    .dataframe tbody tr th:only-of-type {\n",
       "        vertical-align: middle;\n",
       "    }\n",
       "\n",
       "    .dataframe tbody tr th {\n",
       "        vertical-align: top;\n",
       "    }\n",
       "\n",
       "    .dataframe thead th {\n",
       "        text-align: right;\n",
       "    }\n",
       "</style>\n",
       "<table border=\"1\" class=\"dataframe\">\n",
       "  <thead>\n",
       "    <tr style=\"text-align: right;\">\n",
       "      <th></th>\n",
       "      <th>Text_of_Speech</th>\n",
       "      <th>Emotion</th>\n",
       "    </tr>\n",
       "  </thead>\n",
       "  <tbody>\n",
       "    <tr>\n",
       "      <th>0</th>\n",
       "      <td>esteemed mr lebedev lady gentleman gathered su...</td>\n",
       "      <td>3</td>\n",
       "    </tr>\n",
       "    <tr>\n",
       "      <th>1</th>\n",
       "      <td>president good evening fellow american want ta...</td>\n",
       "      <td>2</td>\n",
       "    </tr>\n",
       "    <tr>\n",
       "      <th>2</th>\n",
       "      <td>good afternoon dear colleague meeting today de...</td>\n",
       "      <td>1</td>\n",
       "    </tr>\n",
       "    <tr>\n",
       "      <th>3</th>\n",
       "      <td>good afternoon everybody sound system really p...</td>\n",
       "      <td>1</td>\n",
       "    </tr>\n",
       "    <tr>\n",
       "      <th>4</th>\n",
       "      <td>american voted   election election nation ’ hi...</td>\n",
       "      <td>3</td>\n",
       "    </tr>\n",
       "    <tr>\n",
       "      <th>...</th>\n",
       "      <td>...</td>\n",
       "      <td>...</td>\n",
       "    </tr>\n",
       "    <tr>\n",
       "      <th>1612</th>\n",
       "      <td>good afternoon see majesty queen invited form ...</td>\n",
       "      <td>2</td>\n",
       "    </tr>\n",
       "    <tr>\n",
       "      <th>1613</th>\n",
       "      <td>february black history month call american peo...</td>\n",
       "      <td>2</td>\n",
       "    </tr>\n",
       "    <tr>\n",
       "      <th>1614</th>\n",
       "      <td>thank much everybody seat well welcome white h...</td>\n",
       "      <td>1</td>\n",
       "    </tr>\n",
       "    <tr>\n",
       "      <th>1615</th>\n",
       "      <td>colleague friend   president xi jinping propos...</td>\n",
       "      <td>0</td>\n",
       "    </tr>\n",
       "    <tr>\n",
       "      <th>1616</th>\n",
       "      <td>secretary state john kerry secretary treasury ...</td>\n",
       "      <td>2</td>\n",
       "    </tr>\n",
       "  </tbody>\n",
       "</table>\n",
       "<p>1605 rows × 2 columns</p>\n",
       "</div>"
      ],
      "text/plain": [
       "                                         Text_of_Speech  Emotion\n",
       "0     esteemed mr lebedev lady gentleman gathered su...        3\n",
       "1     president good evening fellow american want ta...        2\n",
       "2     good afternoon dear colleague meeting today de...        1\n",
       "3     good afternoon everybody sound system really p...        1\n",
       "4     american voted   election election nation ’ hi...        3\n",
       "...                                                 ...      ...\n",
       "1612  good afternoon see majesty queen invited form ...        2\n",
       "1613  february black history month call american peo...        2\n",
       "1614  thank much everybody seat well welcome white h...        1\n",
       "1615  colleague friend   president xi jinping propos...        0\n",
       "1616  secretary state john kerry secretary treasury ...        2\n",
       "\n",
       "[1605 rows x 2 columns]"
      ]
     },
     "execution_count": 58,
     "metadata": {},
     "output_type": "execute_result"
    }
   ],
   "source": [
    "df"
   ]
  },
  {
   "cell_type": "markdown",
   "id": "0d169e8e",
   "metadata": {},
   "source": [
    "# TF-IDF"
   ]
  },
  {
   "cell_type": "code",
   "execution_count": 46,
   "id": "cc02e3f1",
   "metadata": {},
   "outputs": [],
   "source": [
    "from sklearn.feature_extraction.text import TfidfVectorizer\n",
    "tfidf=TfidfVectorizer()\n",
    "X=tfidf.fit_transform(df['Text_of_Speech']).toarray()"
   ]
  },
  {
   "cell_type": "code",
   "execution_count": 47,
   "id": "45ff994e",
   "metadata": {},
   "outputs": [],
   "source": [
    "from sklearn.model_selection import train_test_split\n",
    "from sklearn.metrics import classification_report\n",
    "global X_train, X_test, y_train, y_test \n",
    "X_train, X_test, y_train, y_test = train_test_split(X,df['Emotion'], test_size=0.2)"
   ]
  },
  {
   "cell_type": "code",
   "execution_count": 55,
   "id": "e13473d0",
   "metadata": {},
   "outputs": [
    {
     "name": "stdout",
     "output_type": "stream",
     "text": [
      "              precision    recall  f1-score   support\n",
      "\n",
      "           0       0.70      0.57      0.63        94\n",
      "           1       0.32      0.50      0.39        84\n",
      "           2       0.42      0.45      0.44        95\n",
      "           3       0.55      0.12      0.20        48\n",
      "\n",
      "    accuracy                           0.45       321\n",
      "   macro avg       0.50      0.41      0.42       321\n",
      "weighted avg       0.50      0.45      0.45       321\n",
      "\n"
     ]
    }
   ],
   "source": [
    "from sklearn.svm import SVC\n",
    "rf_kn =SVC()\n",
    "rf_model_kn = rf_kn.fit(X_train, y_train)\n",
    "y_pred = rf_model_kn.predict(X_test)\n",
    "score1=classification_report(y_test, y_pred)\n",
    "print(score1)"
   ]
  },
  {
   "cell_type": "code",
   "execution_count": 49,
   "id": "7897e5f0",
   "metadata": {},
   "outputs": [
    {
     "name": "stdout",
     "output_type": "stream",
     "text": [
      "              precision    recall  f1-score   support\n",
      "\n",
      "           0       0.42      0.34      0.38        94\n",
      "           1       0.36      0.56      0.44        84\n",
      "           2       0.38      0.33      0.35        95\n",
      "           3       0.28      0.19      0.23        48\n",
      "\n",
      "    accuracy                           0.37       321\n",
      "   macro avg       0.36      0.35      0.35       321\n",
      "weighted avg       0.37      0.37      0.36       321\n",
      "\n"
     ]
    }
   ],
   "source": [
    "from sklearn.tree import DecisionTreeClassifier\n",
    "rf_kn = DecisionTreeClassifier()\n",
    "rf_model_kn = rf_kn.fit(X_train, y_train)\n",
    "y_pred = rf_model_kn.predict(X_test)\n",
    "score1=classification_report(y_test, y_pred)\n",
    "print(score1)"
   ]
  },
  {
   "cell_type": "code",
   "execution_count": 50,
   "id": "56081f68",
   "metadata": {},
   "outputs": [
    {
     "name": "stdout",
     "output_type": "stream",
     "text": [
      "              precision    recall  f1-score   support\n",
      "\n",
      "           0       0.56      0.56      0.56        94\n",
      "           1       0.36      0.51      0.42        84\n",
      "           2       0.43      0.42      0.42        95\n",
      "           3       0.58      0.15      0.23        48\n",
      "\n",
      "    accuracy                           0.45       321\n",
      "   macro avg       0.48      0.41      0.41       321\n",
      "weighted avg       0.47      0.45      0.43       321\n",
      "\n"
     ]
    }
   ],
   "source": [
    "from sklearn.ensemble import RandomForestClassifier\n",
    "rf_kn = RandomForestClassifier()\n",
    "rf_model_kn = rf_kn.fit(X_train, y_train)\n",
    "y_pred = rf_model_kn.predict(X_test)\n",
    "score1=classification_report(y_test, y_pred)\n",
    "print(score1)"
   ]
  },
  {
   "cell_type": "code",
   "execution_count": 51,
   "id": "605b398f",
   "metadata": {},
   "outputs": [
    {
     "name": "stdout",
     "output_type": "stream",
     "text": [
      "              precision    recall  f1-score   support\n",
      "\n",
      "           0       0.64      0.57      0.60        94\n",
      "           1       0.32      0.44      0.37        84\n",
      "           2       0.42      0.44      0.43        95\n",
      "           3       0.50      0.21      0.29        48\n",
      "\n",
      "    accuracy                           0.45       321\n",
      "   macro avg       0.47      0.42      0.42       321\n",
      "weighted avg       0.47      0.45      0.45       321\n",
      "\n"
     ]
    }
   ],
   "source": [
    "from sklearn.linear_model import LogisticRegression\n",
    "model_l=LogisticRegression().fit(X_train,y_train)\n",
    "y_pred=model_l.predict(X_test)\n",
    "score=classification_report(y_test, y_pred)\n",
    "print(score)"
   ]
  },
  {
   "cell_type": "code",
   "execution_count": 52,
   "id": "79a1c8a3",
   "metadata": {},
   "outputs": [
    {
     "name": "stdout",
     "output_type": "stream",
     "text": [
      "              precision    recall  f1-score   support\n",
      "\n",
      "           0       0.58      0.40      0.48        94\n",
      "           1       0.33      0.51      0.40        84\n",
      "           2       0.34      0.37      0.35        95\n",
      "           3       0.41      0.19      0.26        48\n",
      "\n",
      "    accuracy                           0.39       321\n",
      "   macro avg       0.41      0.37      0.37       321\n",
      "weighted avg       0.42      0.39      0.39       321\n",
      "\n"
     ]
    }
   ],
   "source": [
    "from sklearn.naive_bayes import GaussianNB\n",
    "gnb = GaussianNB()\n",
    "gnb.fit(X_train, y_train)\n",
    "y_pred = gnb.predict(X_test)\n",
    "score1=classification_report(y_test, y_pred)\n",
    "print(score1)"
   ]
  },
  {
   "cell_type": "code",
   "execution_count": 53,
   "id": "1c7e8858",
   "metadata": {},
   "outputs": [],
   "source": [
    "# from sklearn.neural_network import MLPClassifier\n",
    "# from sklearn.ensemble import StackingClassifier\n",
    "# from sklearn.neighbors import KNeighborsClassifier\n",
    "\n",
    "# estimator_list = [\n",
    "#         (\"knn\", KNeighborsClassifier()),\n",
    "#         (\"svm_rbf\", SVC()),\n",
    "#         (\"dt\", DecisionTreeClassifier()),\n",
    "#         (\"rf\", RandomForestClassifier()),\n",
    "#         (\"mlp\", MLPClassifier(alpha=1, max_iter=1000)),\n",
    "#     ]\n",
    "# stack_model = StackingClassifier(\n",
    "#         estimators=estimator_list, final_estimator=LogisticRegression()\n",
    "#     )\n",
    "# stack_model.fit(X_train, y_train)\n",
    "# y_pred = stack_model.predict(X_test)\n",
    "# score = classification_report(y_test, y_pred)\n",
    "# print(score)"
   ]
  },
  {
   "cell_type": "code",
   "execution_count": 54,
   "id": "9d909bd6",
   "metadata": {},
   "outputs": [
    {
     "name": "stdout",
     "output_type": "stream",
     "text": [
      "              precision    recall  f1-score   support\n",
      "\n",
      "           0       0.66      0.59      0.62        94\n",
      "           1       0.35      0.50      0.41        84\n",
      "           2       0.47      0.43      0.45        95\n",
      "           3       0.75      0.50      0.60        48\n",
      "\n",
      "    accuracy                           0.50       321\n",
      "   macro avg       0.56      0.50      0.52       321\n",
      "weighted avg       0.54      0.50      0.51       321\n",
      "\n"
     ]
    }
   ],
   "source": [
    "import xgboost as xgb\n",
    "xgb_model = xgb.XGBRegressor(objective=\"multi:softmax\", num_class=4,random_state=42)\n",
    "xgb_model.fit(X_train, y_train)\n",
    "y_pred=xgb_model.predict(X_test)\n",
    "score1=classification_report(y_test,y_pred.round())\n",
    "print(score1)"
   ]
  },
  {
   "cell_type": "code",
   "execution_count": null,
   "id": "32fd62aa",
   "metadata": {},
   "outputs": [],
   "source": []
  }
 ],
 "metadata": {
  "kernelspec": {
   "display_name": "Python 3 (ipykernel)",
   "language": "python",
   "name": "python3"
  },
  "language_info": {
   "codemirror_mode": {
    "name": "ipython",
    "version": 3
   },
   "file_extension": ".py",
   "mimetype": "text/x-python",
   "name": "python",
   "nbconvert_exporter": "python",
   "pygments_lexer": "ipython3",
   "version": "3.10.11"
  }
 },
 "nbformat": 4,
 "nbformat_minor": 5
}
